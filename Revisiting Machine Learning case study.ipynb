{
 "cells": [
  {
   "cell_type": "markdown",
   "id": "3beab30e",
   "metadata": {},
   "source": [
    "# Revisiting Machine Learning case study\n"
   ]
  },
  {
   "cell_type": "code",
   "execution_count": 14,
   "id": "0bdb9390",
   "metadata": {},
   "outputs": [
    {
     "name": "stderr",
     "output_type": "stream",
     "text": [
      "C:\\Users\\ashis\\AppData\\Local\\Temp\\ipykernel_20172\\1950399305.py:4: DtypeWarning: Columns (8) have mixed types. Specify dtype option on import or set low_memory=False.\n",
      "  df = pd.read_csv(r\"C:\\Users\\ashis\\Downloads\\data for ironheck\\learningSet.csv\")\n"
     ]
    },
    {
     "name": "stdout",
     "output_type": "stream",
     "text": [
      "<class 'pandas.core.frame.DataFrame'>\n",
      "RangeIndex: 95412 entries, 0 to 95411\n",
      "Columns: 481 entries, ODATEDW to GEOCODE2\n",
      "dtypes: float64(97), int64(310), object(74)\n",
      "memory usage: 350.1+ MB\n"
     ]
    }
   ],
   "source": [
    "import pandas as pd\n",
    "\n",
    "\n",
    "df = pd.read_csv(r\"C:\\Users\\ashis\\Downloads\\data for ironheck\\learningSet.csv\")\n",
    "df.info()"
   ]
  },
  {
   "cell_type": "code",
   "execution_count": 6,
   "id": "c690eb45",
   "metadata": {},
   "outputs": [
    {
     "name": "stdout",
     "output_type": "stream",
     "text": [
      "AGE         23665\n",
      "NUMCHLD     83026\n",
      "INCOME      21286\n",
      "WEALTH1     44732\n",
      "MBCRAFT     52854\n",
      "            ...  \n",
      "RAMNT_24    77674\n",
      "NEXTDATE     9973\n",
      "TIMELAG      9973\n",
      "CLUSTER2      132\n",
      "GEOCODE2      132\n",
      "Length: 92, dtype: int64\n"
     ]
    }
   ],
   "source": [
    "null_values = df.isnull().sum()\n",
    "\n",
    "print(null_values[null_values > 0])\n"
   ]
  },
  {
   "cell_type": "code",
   "execution_count": 8,
   "id": "5a60be38",
   "metadata": {},
   "outputs": [],
   "source": [
    "# We will exclude the OSOURCE and ZIP CODE columns as specified. Create a list drop_list and append these columns.\n",
    "drop_list = []\n",
    "\n",
    "drop_list.append('OSOURCE')\n",
    "drop_list.append('ZIP CODE')\n"
   ]
  },
  {
   "cell_type": "code",
   "execution_count": 9,
   "id": "9ed30ffe",
   "metadata": {},
   "outputs": [],
   "source": [
    "# We need to identify and remove columns where more than 85% of the values are missing.\n",
    "threshold = len(df) * 0.85\n",
    "\n",
    "cols_to_drop = df.columns[df.isnull().sum() > threshold]\n",
    "\n",
    "drop_list.extend(cols_to_drop)\n"
   ]
  },
  {
   "cell_type": "code",
   "execution_count": 12,
   "id": "e2700287",
   "metadata": {},
   "outputs": [
    {
     "name": "stdout",
     "output_type": "stream",
     "text": [
      "<class 'pandas.core.frame.DataFrame'>\n",
      "RangeIndex: 95412 entries, 0 to 95411\n",
      "Columns: 479 entries, ODATEDW to GEOCODE2\n",
      "dtypes: float64(97), int64(310), object(72)\n",
      "memory usage: 348.7+ MB\n"
     ]
    }
   ],
   "source": [
    "# After identifying the columns with too many missing values and adding OSOURCE and ZIP CODE, we will remove all of them from the DataFrame.\n",
    "\n",
    "drop_list = ['OSOURCE', 'ZIP']\n",
    "\n",
    "df_cleaned = df.drop(columns=drop_list, errors='ignore')\n",
    "\n",
    "df_cleaned.info()\n",
    "\n"
   ]
  },
  {
   "cell_type": "code",
   "execution_count": 11,
   "id": "913973b6",
   "metadata": {},
   "outputs": [
    {
     "name": "stdout",
     "output_type": "stream",
     "text": [
      "Index(['ODATEDW', 'OSOURCE', 'TCODE', 'STATE', 'ZIP', 'MAILCODE', 'PVASTATE',\n",
      "       'DOB', 'NOEXCH', 'RECINHSE',\n",
      "       ...\n",
      "       'TARGET_D', 'HPHONE_D', 'RFA_2R', 'RFA_2F', 'RFA_2A', 'MDMAUD_R',\n",
      "       'MDMAUD_F', 'MDMAUD_A', 'CLUSTER2', 'GEOCODE2'],\n",
      "      dtype='object', length=481)\n"
     ]
    }
   ],
   "source": [
    "# Inspect the column names\n",
    "print(df.columns)\n"
   ]
  },
  {
   "cell_type": "code",
   "execution_count": 13,
   "id": "776e4dec",
   "metadata": {},
   "outputs": [
    {
     "name": "stdout",
     "output_type": "stream",
     "text": [
      "F    51277\n",
      "M    39094\n",
      "      2957\n",
      "U     1715\n",
      "J      365\n",
      "C        2\n",
      "A        2\n",
      "Name: GENDER, dtype: int64\n",
      "F        51277\n",
      "M        39094\n",
      "other     5041\n",
      "Name: GENDER, dtype: int64\n"
     ]
    }
   ],
   "source": [
    "# Reduce the Number of Categories in the GENDER Column\n",
    "\n",
    "print(df_cleaned['GENDER'].value_counts())\n",
    "\n",
    "df_cleaned['GENDER'] = df_cleaned['GENDER'].fillna('F')\n",
    "\n",
    "df_cleaned['GENDER'] = df_cleaned['GENDER'].apply(lambda x: 'M' if x == 'M' \n",
    "                                                  else ('F' if x == 'F' else 'other'))\n",
    "print(df_cleaned['GENDER'].value_counts())\n"
   ]
  },
  {
   "cell_type": "code",
   "execution_count": null,
   "id": "7ca0865f",
   "metadata": {},
   "outputs": [],
   "source": []
  }
 ],
 "metadata": {
  "kernelspec": {
   "display_name": "Python 3 (ipykernel)",
   "language": "python",
   "name": "python3"
  },
  "language_info": {
   "codemirror_mode": {
    "name": "ipython",
    "version": 3
   },
   "file_extension": ".py",
   "mimetype": "text/x-python",
   "name": "python",
   "nbconvert_exporter": "python",
   "pygments_lexer": "ipython3",
   "version": "3.9.13"
  }
 },
 "nbformat": 4,
 "nbformat_minor": 5
}
